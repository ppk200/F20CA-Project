{
 "cells": [
  {
   "cell_type": "code",
   "execution_count": 47,
   "outputs": [],
   "source": [
    "import os\n",
    "import spacy\n",
    "import subprocess\n",
    "import pandas as pd"
   ],
   "metadata": {
    "collapsed": false,
    "ExecuteTime": {
     "end_time": "2024-03-04T16:47:31.482912Z",
     "start_time": "2024-03-04T16:47:31.472781Z"
    }
   },
   "id": "a97930f3c61b2510"
  },
  {
   "cell_type": "code",
   "execution_count": 48,
   "outputs": [],
   "source": [
    "# Load English language model\n",
    "nlp = spacy.load(\"en_core_web_sm\")\n",
    "\n",
    "all_ai_nouns = ['System', 'Model', 'AI', 'Artificial Intelligence', 'Intelligence', 'Chatbot', 'Machine']\n",
    "upper_all_ai_nouns = [x.upper() for x in all_ai_nouns]"
   ],
   "metadata": {
    "collapsed": false,
    "ExecuteTime": {
     "end_time": "2024-03-04T16:47:31.778577Z",
     "start_time": "2024-03-04T16:47:31.586295Z"
    }
   },
   "id": "fcdd2243d115b29e"
  },
  {
   "cell_type": "code",
   "execution_count": 49,
   "outputs": [],
   "source": [
    "text_csv = pd.read_csv('../../text/test_text1.csv')\n"
   ],
   "metadata": {
    "collapsed": false,
    "ExecuteTime": {
     "end_time": "2024-03-04T16:47:32.047693Z",
     "start_time": "2024-03-04T16:47:32.042871Z"
    }
   },
   "id": "ea8581ab8b63653b"
  },
  {
   "cell_type": "code",
   "execution_count": 51,
   "outputs": [],
   "source": [
    "sentence = text_csv['text_input'].str.cat(sep=' ')"
   ],
   "metadata": {
    "collapsed": false,
    "ExecuteTime": {
     "end_time": "2024-03-04T16:47:45.787362Z",
     "start_time": "2024-03-04T16:47:45.785442Z"
    }
   },
   "id": "6bb99d331fc0cb77"
  },
  {
   "cell_type": "code",
   "execution_count": 52,
   "outputs": [],
   "source": [
    "def find_pronoun_types(sentence):\n",
    "    # Parse the sentence\n",
    "    doc = nlp(sentence)\n",
    "    \n",
    "    # List to store pronouns\n",
    "    pronouns = []\n",
    "    upper_pronouns = []\n",
    "    \n",
    "    # Iterate over tokens in the sentence\n",
    "    for token in doc:\n",
    "        upper_curr_token_text = token.text.upper()\n",
    "        # Check if token is a pronoun and is not in the list\n",
    "        if token.pos_ == 'PRON' and upper_curr_token_text not in upper_pronouns:\n",
    "            pronouns.append(token.text)\n",
    "            upper_pronouns.append(upper_curr_token_text)\n",
    "            \n",
    "    return pronouns"
   ],
   "metadata": {
    "collapsed": false,
    "ExecuteTime": {
     "end_time": "2024-03-04T16:47:47.729947Z",
     "start_time": "2024-03-04T16:47:47.727539Z"
    }
   },
   "id": "8cb8bd51ed630231"
  },
  {
   "cell_type": "code",
   "execution_count": 53,
   "outputs": [],
   "source": [
    "def find_ai_noun_types(sentence):\n",
    "    # Parse the sentence\n",
    "    doc = nlp(sentence)\n",
    "\n",
    "    # List of nouns\n",
    "    ai_nouns = []\n",
    "    ai_nouns_upper_list = []\n",
    "    \n",
    "    # Iterate over tokens in the sentence\n",
    "    for token in doc:\n",
    "        upper_curr_token_text = token.text.upper()\n",
    "        # Check if token is a pronoun\n",
    "        if (token.pos_ == 'PROPN' or token.pos_ == 'NOUN') and upper_curr_token_text not in ai_nouns_upper_list and upper_curr_token_text in upper_all_ai_nouns:\n",
    "            ai_nouns.append(token.text)\n",
    "            ai_nouns_upper_list.append(upper_curr_token_text)\n",
    "            \n",
    "    return ai_nouns"
   ],
   "metadata": {
    "collapsed": false,
    "ExecuteTime": {
     "end_time": "2024-03-04T16:47:48.463689Z",
     "start_time": "2024-03-04T16:47:48.459992Z"
    }
   },
   "id": "c49ad5c22fd83179"
  },
  {
   "cell_type": "code",
   "execution_count": 54,
   "outputs": [
    {
     "data": {
      "text/plain": "['AI']"
     },
     "execution_count": 54,
     "metadata": {},
     "output_type": "execute_result"
    }
   ],
   "source": [
    "# Find pronouns in the sentence\n",
    "ai_nouns = find_ai_noun_types(sentence)\n",
    "ai_nouns"
   ],
   "metadata": {
    "collapsed": false,
    "ExecuteTime": {
     "end_time": "2024-03-04T16:47:50.298168Z",
     "start_time": "2024-03-04T16:47:50.204998Z"
    }
   },
   "id": "c3e098fd96b87ab0"
  },
  {
   "cell_type": "code",
   "execution_count": 55,
   "outputs": [
    {
     "data": {
      "text/plain": "['I',\n 'My',\n 'that',\n 'them',\n 'their',\n 'It',\n 'everyone',\n 'there',\n 'anything',\n 'you']"
     },
     "execution_count": 55,
     "metadata": {},
     "output_type": "execute_result"
    }
   ],
   "source": [
    "pronouns = find_pronoun_types(sentence)\n",
    "pronouns"
   ],
   "metadata": {
    "collapsed": false,
    "ExecuteTime": {
     "end_time": "2024-03-04T16:47:52.513805Z",
     "start_time": "2024-03-04T16:47:52.432382Z"
    }
   },
   "id": "3ffa8e2fdfe60193"
  },
  {
   "cell_type": "code",
   "execution_count": 56,
   "outputs": [],
   "source": [
    "cwd = os.getcwd()"
   ],
   "metadata": {
    "collapsed": false,
    "ExecuteTime": {
     "end_time": "2024-03-04T16:47:58.033315Z",
     "start_time": "2024-03-04T16:47:58.028844Z"
    }
   },
   "id": "1da6d07692acc5c0"
  },
  {
   "cell_type": "code",
   "execution_count": 58,
   "outputs": [
    {
     "name": "stdout",
     "output_type": "stream",
     "text": [
      "BERT model loaded on cpu\n",
      "41 sentences containing target entities found\n",
      "AnthroScores for each sentence saved in _sentence_scores.csv\n",
      "AnthroScores for text sentence saved in full_anthro_score_results.csv\n"
     ]
    },
    {
     "data": {
      "text/plain": "CompletedProcess(args=['python', '../../scripts/evaluation/anthro_score/anthroscore/src/get_anthroscore.py', '--input_file', '../../text/test_text1.csv', '--text_column_name', 'text_input', '--entities', 'AI', 'I', 'My', 'that', 'them', 'their', 'It', 'everyone', 'there', 'anything', 'you', '--output_file', 'full_anthro_score_results.csv', '--text_id_name', 'text_id'], returncode=0)"
     },
     "execution_count": 58,
     "metadata": {},
     "output_type": "execute_result"
    }
   ],
   "source": [
    "os.chdir(\"../../evaluation_results/anthro_scores\")\n",
    "command = [\"python\", \"../../scripts/evaluation/anthro_score/anthroscore/src/get_anthroscore.py\",\n",
    "           \"--input_file\", \"../../text/test_text1.csv\",\n",
    "           \"--text_column_name\", \"text_input\",\n",
    "           \"--entities\"] + ai_nouns + pronouns + [\"--output_file\", \"full_anthro_score_results.csv\",\n",
    "           \"--text_id_name\", \"text_id\"]\n",
    "\n",
    "subprocess.run(command)"
   ],
   "metadata": {
    "collapsed": false,
    "ExecuteTime": {
     "end_time": "2024-03-04T16:48:21.864984Z",
     "start_time": "2024-03-04T16:48:15.696606Z"
    }
   },
   "id": "6612d5eee2eaccbd"
  },
  {
   "cell_type": "code",
   "execution_count": null,
   "outputs": [],
   "source": [],
   "metadata": {
    "collapsed": false
   },
   "id": "b5fa5e543fcbd509"
  }
 ],
 "metadata": {
  "kernelspec": {
   "display_name": "Python 3",
   "language": "python",
   "name": "python3"
  },
  "language_info": {
   "codemirror_mode": {
    "name": "ipython",
    "version": 2
   },
   "file_extension": ".py",
   "mimetype": "text/x-python",
   "name": "python",
   "nbconvert_exporter": "python",
   "pygments_lexer": "ipython2",
   "version": "2.7.6"
  }
 },
 "nbformat": 4,
 "nbformat_minor": 5
}
